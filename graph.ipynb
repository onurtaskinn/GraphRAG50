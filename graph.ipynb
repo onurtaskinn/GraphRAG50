{
 "cells": [
  {
   "cell_type": "code",
   "execution_count": 5,
   "metadata": {},
   "outputs": [
    {
     "data": {
      "application/vnd.jupyter.widget-view+json": {
       "model_id": "c91c1e05429243f2be4a2fc843dca6d4",
       "version_major": 2,
       "version_minor": 0
      },
      "text/plain": [
       "Dropdown(description='Select folder:', options=('comert_dinleme', '123'), value='comert_dinleme')"
      ]
     },
     "metadata": {},
     "output_type": "display_data"
    },
    {
     "data": {
      "application/vnd.jupyter.widget-view+json": {
       "model_id": "9fa2d96601064c8c93a4fb4aede49428",
       "version_major": 2,
       "version_minor": 0
      },
      "text/plain": [
       "Output()"
      ]
     },
     "metadata": {},
     "output_type": "display_data"
    }
   ],
   "source": [
    "\n",
    "import os\n",
    "from IPython.display import display, clear_output\n",
    "from ipywidgets import widgets\n",
    "import pandas as pd\n",
    "from yfiles_jupyter_graphs import GraphWidget\n",
    "\n",
    "def select_input_folder(base_path=\"./output\"):\n",
    "    folders = [f for f in os.listdir(base_path) if os.path.isdir(os.path.join(base_path, f))]\n",
    "    if not folders:\n",
    "        raise ValueError(f\"No folders found in {base_path}\")\n",
    "    \n",
    "    dropdown = widgets.Dropdown(\n",
    "        options=folders,\n",
    "        description='Select folder:',\n",
    "        disabled=False,\n",
    "    )\n",
    "    \n",
    "    output = widgets.Output()\n",
    "    \n",
    "    def on_change(change):\n",
    "        with output:\n",
    "            clear_output()\n",
    "            print(f\"Selected folder: {change.new}\")\n",
    "            process_selected_folder(change.new)\n",
    "    \n",
    "    dropdown.observe(on_change, names='value')\n",
    "    \n",
    "    display(dropdown, output)\n",
    "\n",
    "def process_selected_folder(selected_folder):\n",
    "    INPUT_DIR = os.path.join(\"./output\", selected_folder, \"artifacts\")\n",
    "    LANCEDB_URI = f\"{INPUT_DIR}/\"\n",
    "\n",
    "    COMMUNITY_REPORT_TABLE = \"create_final_community_reports\"\n",
    "    ENTITY_TABLE = \"create_final_nodes\"\n",
    "    ENTITY_EMBEDDING_TABLE = \"create_final_entities\"\n",
    "    RELATIONSHIP_TABLE = \"create_final_relationships\"\n",
    "    COVARIATE_TABLE = \"create_final_covariates\"\n",
    "    TEXT_UNIT_TABLE = \"create_final_text_units\"\n",
    "    COMMUNITY_LEVEL = 2\n",
    "\n",
    "    # read nodes table to get community and degree data\n",
    "    entity_df = pd.read_parquet(f\"{INPUT_DIR}/{ENTITY_TABLE}.parquet\")\n",
    "    entity_embedding_df = pd.read_parquet(f\"{INPUT_DIR}/{ENTITY_EMBEDDING_TABLE}.parquet\")\n",
    "    relationship_df = pd.read_parquet(f\"{INPUT_DIR}/{RELATIONSHIP_TABLE}.parquet\")\n",
    "\n",
    "    w = create_graph_widget(entity_df, relationship_df)\n",
    "    display(w)\n",
    "\n",
    "def create_graph_widget(entity_df, relationship_df):\n",
    "    w = GraphWidget()\n",
    "    w.directed = True\n",
    "    w.nodes = convert_entities_to_dicts(entity_df)\n",
    "    w.edges = convert_relationships_to_dicts(relationship_df)\n",
    "\n",
    "    w.node_label_mapping = \"title\"\n",
    "    w.node_color_mapping = lambda node: community_to_color(node[\"properties\"][\"community\"])\n",
    "    w.edge_color_mapping = lambda edge: community_to_color(edge_to_source_community(edge, w.nodes))\n",
    "    w.node_scale_factor_mapping = lambda node: 0.5 + node[\"properties\"][\"size\"] * 1.5 / 20\n",
    "    w.edge_thickness_factor_mapping = \"weight\"\n",
    "\n",
    "    w.radial_layout()\n",
    "    return w\n",
    "\n",
    "def convert_entities_to_dicts(df):\n",
    "    nodes_dict = {}\n",
    "    for _, row in df.iterrows():\n",
    "        node_id = row[\"title\"]\n",
    "        if node_id not in nodes_dict:\n",
    "            nodes_dict[node_id] = {\n",
    "                \"id\": node_id,\n",
    "                \"properties\": row.to_dict(),\n",
    "            }\n",
    "    return list(nodes_dict.values())\n",
    "\n",
    "def convert_relationships_to_dicts(df):\n",
    "    relationships = []\n",
    "    for _, row in df.iterrows():\n",
    "        relationships.append({\n",
    "            \"start\": row[\"source\"],\n",
    "            \"end\": row[\"target\"],\n",
    "            \"properties\": row.to_dict(),\n",
    "        })\n",
    "    return relationships\n",
    "\n",
    "def community_to_color(community):\n",
    "    colors = [\n",
    "        \"crimson\", \"darkorange\", \"indigo\", \"cornflowerblue\",\n",
    "        \"cyan\", \"teal\", \"green\",\n",
    "    ]\n",
    "    return colors[int(community) % len(colors)] if community is not None else \"lightgray\"\n",
    "\n",
    "def edge_to_source_community(edge, nodes):\n",
    "    source_node = next(\n",
    "        (entry for entry in nodes if entry[\"properties\"][\"title\"] == edge[\"start\"]),\n",
    "        None,\n",
    "    )\n",
    "    source_node_community = source_node[\"properties\"][\"community\"] if source_node else None\n",
    "    return source_node_community if source_node_community is not None else None\n",
    "\n",
    "# Kullanım\n",
    "select_input_folder()\n"
   ]
  },
  {
   "cell_type": "code",
   "execution_count": null,
   "metadata": {},
   "outputs": [],
   "source": []
  }
 ],
 "metadata": {
  "kernelspec": {
   "display_name": "venv",
   "language": "python",
   "name": "python3"
  },
  "language_info": {
   "codemirror_mode": {
    "name": "ipython",
    "version": 3
   },
   "file_extension": ".py",
   "mimetype": "text/x-python",
   "name": "python",
   "nbconvert_exporter": "python",
   "pygments_lexer": "ipython3",
   "version": "3.12.5"
  }
 },
 "nbformat": 4,
 "nbformat_minor": 2
}
